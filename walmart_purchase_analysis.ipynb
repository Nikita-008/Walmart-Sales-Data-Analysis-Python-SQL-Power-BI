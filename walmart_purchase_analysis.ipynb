{
 "cells": [
  {
   "cell_type": "markdown",
   "id": "a68e8564",
   "metadata": {},
   "source": [
    "# Walmart Purchase Behavior Analysis - Python (Pandas, NumPy)"
   ]
  },
  {
   "cell_type": "code",
   "execution_count": null,
   "id": "fa2b7b81",
   "metadata": {},
   "outputs": [],
   "source": [
    "\n",
    "# Walmart Customer Purchase Behavior Analysis\n",
    "\n",
    "import pandas as pd\n",
    "import numpy as np\n",
    "import matplotlib.pyplot as plt\n",
    "import seaborn as sns\n",
    "\n",
    "# Load the data\n",
    "df = pd.read_csv(\"walmart.csv\")\n",
    "\n",
    "# Check basic info\n",
    "print(df.info())\n",
    "\n",
    "# Summary statistics\n",
    "print(df.describe())\n",
    "\n",
    "# Check for missing values\n",
    "print(df.isnull().sum())\n",
    "\n",
    "# Add derived metrics\n",
    "df['City_Category'] = df['City_Category'].astype('category')\n",
    "df['Age'] = df['Age'].astype('category')\n",
    "\n",
    "# Purchase by Gender\n",
    "gender_purchase = df.groupby('Gender')['Purchase'].mean().sort_values(ascending=False)\n",
    "print(\"Average Purchase by Gender:\\n\", gender_purchase)\n",
    "\n",
    "# Purchase by Age Group\n",
    "age_purchase = df.groupby('Age')['Purchase'].mean().sort_values(ascending=False)\n",
    "print(\"Average Purchase by Age Group:\\n\", age_purchase)\n",
    "\n",
    "# Visualization - Avg Purchase by Age Group\n",
    "plt.figure(figsize=(8,4))\n",
    "sns.barplot(x='Age', y='Purchase', data=df, estimator=np.mean)\n",
    "plt.title(\"Average Purchase by Age Group\")\n",
    "plt.show()\n",
    "\n",
    "# Purchase by City Category\n",
    "plt.figure(figsize=(8,4))\n",
    "sns.boxplot(x='City_Category', y='Purchase', data=df)\n",
    "plt.title(\"Purchase Distribution by City\")\n",
    "plt.show()\n",
    "\n",
    "# Correlation Heatmap\n",
    "corr = df.corr(numeric_only=True)\n",
    "sns.heatmap(corr, annot=True, cmap='coolwarm')\n",
    "plt.title(\"Correlation Heatmap\")\n",
    "plt.show()\n"
   ]
  }
 ],
 "metadata": {
  "kernelspec": {
   "display_name": "Python 3 (ipykernel)",
   "language": "python",
   "name": "python3"
  },
  "language_info": {
   "codemirror_mode": {
    "name": "ipython",
    "version": 3
   },
   "file_extension": ".py",
   "mimetype": "text/x-python",
   "name": "python",
   "nbconvert_exporter": "python",
   "pygments_lexer": "ipython3",
   "version": "3.12.7"
  }
 },
 "nbformat": 4,
 "nbformat_minor": 5
}
